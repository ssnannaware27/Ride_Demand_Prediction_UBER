{
 "cells": [
  {
   "cell_type": "markdown",
   "id": "bb388043",
   "metadata": {},
   "source": [
    "1. Ride Demand Prediction (Regression or Time-Series Forecasting)"
   ]
  },
  {
   "cell_type": "markdown",
   "id": "b51c5aad",
   "metadata": {},
   "source": [
    "Loading Modules : "
   ]
  },
  {
   "cell_type": "code",
   "execution_count": 104,
   "id": "f3ad34a9",
   "metadata": {},
   "outputs": [],
   "source": [
    "import pandas as pd\n",
    "import glob             # For getting a list of files in a directory\n",
    "import numpy as np\n",
    "\n",
    "# For Visualization\n",
    "import matplotlib.pyplot as plt\n",
    "import seaborn as sns"
   ]
  },
  {
   "cell_type": "markdown",
   "id": "058980af",
   "metadata": {},
   "source": [
    "Loading Dataset : "
   ]
  },
  {
   "cell_type": "code",
   "execution_count": 105,
   "id": "cec3dbc5",
   "metadata": {},
   "outputs": [],
   "source": [
    "# CSV - 2014\n",
    "files_2014 = glob.glob(\"../Dataset/Topic_1n2/*14.csv\")\n",
    "# to concatenate all the files\n",
    "df_2014 = pd.concat([pd.read_csv(f, encoding=\"latin1\") for f in files_2014]) # used latin1 encoding as utf-8 didn't work which is by default\n",
    "\n",
    "# CSV - 2015\n",
    "files_2015 = pd.read_csv(\"../Dataset/Topic_1n2/uber-raw-data-janjune-15.csv\", encoding=\"latin1\")\n",
    "df_2015 = pd.DataFrame(files_2015)"
   ]
  },
  {
   "cell_type": "code",
   "execution_count": 106,
   "id": "9cfd3ae9",
   "metadata": {},
   "outputs": [
    {
     "data": {
      "text/html": [
       "<div>\n",
       "<style scoped>\n",
       "    .dataframe tbody tr th:only-of-type {\n",
       "        vertical-align: middle;\n",
       "    }\n",
       "\n",
       "    .dataframe tbody tr th {\n",
       "        vertical-align: top;\n",
       "    }\n",
       "\n",
       "    .dataframe thead th {\n",
       "        text-align: right;\n",
       "    }\n",
       "</style>\n",
       "<table border=\"1\" class=\"dataframe\">\n",
       "  <thead>\n",
       "    <tr style=\"text-align: right;\">\n",
       "      <th></th>\n",
       "      <th>Date/Time</th>\n",
       "      <th>Lat</th>\n",
       "      <th>Lon</th>\n",
       "      <th>Base</th>\n",
       "    </tr>\n",
       "  </thead>\n",
       "  <tbody>\n",
       "    <tr>\n",
       "      <th>0</th>\n",
       "      <td>4/1/2014 0:11:00</td>\n",
       "      <td>40.7690</td>\n",
       "      <td>-73.9549</td>\n",
       "      <td>B02512</td>\n",
       "    </tr>\n",
       "    <tr>\n",
       "      <th>1</th>\n",
       "      <td>4/1/2014 0:17:00</td>\n",
       "      <td>40.7267</td>\n",
       "      <td>-74.0345</td>\n",
       "      <td>B02512</td>\n",
       "    </tr>\n",
       "    <tr>\n",
       "      <th>2</th>\n",
       "      <td>4/1/2014 0:21:00</td>\n",
       "      <td>40.7316</td>\n",
       "      <td>-73.9873</td>\n",
       "      <td>B02512</td>\n",
       "    </tr>\n",
       "    <tr>\n",
       "      <th>3</th>\n",
       "      <td>4/1/2014 0:28:00</td>\n",
       "      <td>40.7588</td>\n",
       "      <td>-73.9776</td>\n",
       "      <td>B02512</td>\n",
       "    </tr>\n",
       "    <tr>\n",
       "      <th>4</th>\n",
       "      <td>4/1/2014 0:33:00</td>\n",
       "      <td>40.7594</td>\n",
       "      <td>-73.9722</td>\n",
       "      <td>B02512</td>\n",
       "    </tr>\n",
       "  </tbody>\n",
       "</table>\n",
       "</div>"
      ],
      "text/plain": [
       "          Date/Time      Lat      Lon    Base\n",
       "0  4/1/2014 0:11:00  40.7690 -73.9549  B02512\n",
       "1  4/1/2014 0:17:00  40.7267 -74.0345  B02512\n",
       "2  4/1/2014 0:21:00  40.7316 -73.9873  B02512\n",
       "3  4/1/2014 0:28:00  40.7588 -73.9776  B02512\n",
       "4  4/1/2014 0:33:00  40.7594 -73.9722  B02512"
      ]
     },
     "execution_count": 106,
     "metadata": {},
     "output_type": "execute_result"
    }
   ],
   "source": [
    "df_2014.head(5)"
   ]
  },
  {
   "cell_type": "code",
   "execution_count": 107,
   "id": "ed4dd204",
   "metadata": {},
   "outputs": [
    {
     "data": {
      "text/html": [
       "<div>\n",
       "<style scoped>\n",
       "    .dataframe tbody tr th:only-of-type {\n",
       "        vertical-align: middle;\n",
       "    }\n",
       "\n",
       "    .dataframe tbody tr th {\n",
       "        vertical-align: top;\n",
       "    }\n",
       "\n",
       "    .dataframe thead th {\n",
       "        text-align: right;\n",
       "    }\n",
       "</style>\n",
       "<table border=\"1\" class=\"dataframe\">\n",
       "  <thead>\n",
       "    <tr style=\"text-align: right;\">\n",
       "      <th></th>\n",
       "      <th>Dispatching_base_num</th>\n",
       "      <th>Pickup_date</th>\n",
       "      <th>Affiliated_base_num</th>\n",
       "      <th>locationID</th>\n",
       "    </tr>\n",
       "  </thead>\n",
       "  <tbody>\n",
       "    <tr>\n",
       "      <th>0</th>\n",
       "      <td>B02617</td>\n",
       "      <td>2015-05-17 09:47:00</td>\n",
       "      <td>B02617</td>\n",
       "      <td>141</td>\n",
       "    </tr>\n",
       "    <tr>\n",
       "      <th>1</th>\n",
       "      <td>B02617</td>\n",
       "      <td>2015-05-17 09:47:00</td>\n",
       "      <td>B02617</td>\n",
       "      <td>65</td>\n",
       "    </tr>\n",
       "    <tr>\n",
       "      <th>2</th>\n",
       "      <td>B02617</td>\n",
       "      <td>2015-05-17 09:47:00</td>\n",
       "      <td>B02617</td>\n",
       "      <td>100</td>\n",
       "    </tr>\n",
       "    <tr>\n",
       "      <th>3</th>\n",
       "      <td>B02617</td>\n",
       "      <td>2015-05-17 09:47:00</td>\n",
       "      <td>B02774</td>\n",
       "      <td>80</td>\n",
       "    </tr>\n",
       "    <tr>\n",
       "      <th>4</th>\n",
       "      <td>B02617</td>\n",
       "      <td>2015-05-17 09:47:00</td>\n",
       "      <td>B02617</td>\n",
       "      <td>90</td>\n",
       "    </tr>\n",
       "  </tbody>\n",
       "</table>\n",
       "</div>"
      ],
      "text/plain": [
       "  Dispatching_base_num          Pickup_date Affiliated_base_num  locationID\n",
       "0               B02617  2015-05-17 09:47:00              B02617         141\n",
       "1               B02617  2015-05-17 09:47:00              B02617          65\n",
       "2               B02617  2015-05-17 09:47:00              B02617         100\n",
       "3               B02617  2015-05-17 09:47:00              B02774          80\n",
       "4               B02617  2015-05-17 09:47:00              B02617          90"
      ]
     },
     "execution_count": 107,
     "metadata": {},
     "output_type": "execute_result"
    }
   ],
   "source": [
    "df_2015.head(5)"
   ]
  },
  {
   "cell_type": "code",
   "execution_count": 108,
   "id": "a276bdd5",
   "metadata": {},
   "outputs": [
    {
     "name": "stdout",
     "output_type": "stream",
     "text": [
      "<class 'pandas.core.frame.DataFrame'>\n",
      "Index: 4534327 entries, 0 to 1028135\n",
      "Data columns (total 4 columns):\n",
      " #   Column     Dtype  \n",
      "---  ------     -----  \n",
      " 0   Date/Time  object \n",
      " 1   Lat        float64\n",
      " 2   Lon        float64\n",
      " 3   Base       object \n",
      "dtypes: float64(2), object(2)\n",
      "memory usage: 173.0+ MB\n"
     ]
    }
   ],
   "source": [
    "# As 2014 data gives exact lat/lon coordinates, Will predict using 2014 data\n",
    "df_2014.info()"
   ]
  },
  {
   "cell_type": "markdown",
   "id": "58f24e75",
   "metadata": {},
   "source": [
    "Data pre-processing"
   ]
  },
  {
   "cell_type": "code",
   "execution_count": 109,
   "id": "b3498e70",
   "metadata": {},
   "outputs": [
    {
     "data": {
      "text/plain": [
       "Date/Time    0\n",
       "Lat          0\n",
       "Lon          0\n",
       "Base         0\n",
       "dtype: int64"
      ]
     },
     "execution_count": 109,
     "metadata": {},
     "output_type": "execute_result"
    }
   ],
   "source": [
    "df_2014.isnull().sum()"
   ]
  },
  {
   "cell_type": "code",
   "execution_count": 110,
   "id": "666560cd",
   "metadata": {},
   "outputs": [
    {
     "name": "stdout",
     "output_type": "stream",
     "text": [
      "82581\n"
     ]
    }
   ],
   "source": [
    "print(df_2014.duplicated().sum())"
   ]
  },
  {
   "cell_type": "code",
   "execution_count": 111,
   "id": "dd0bdbc1",
   "metadata": {},
   "outputs": [
    {
     "data": {
      "text/html": [
       "<div>\n",
       "<style scoped>\n",
       "    .dataframe tbody tr th:only-of-type {\n",
       "        vertical-align: middle;\n",
       "    }\n",
       "\n",
       "    .dataframe tbody tr th {\n",
       "        vertical-align: top;\n",
       "    }\n",
       "\n",
       "    .dataframe thead th {\n",
       "        text-align: right;\n",
       "    }\n",
       "</style>\n",
       "<table border=\"1\" class=\"dataframe\">\n",
       "  <thead>\n",
       "    <tr style=\"text-align: right;\">\n",
       "      <th></th>\n",
       "      <th>Date/Time</th>\n",
       "      <th>Lat</th>\n",
       "      <th>Lon</th>\n",
       "      <th>Base</th>\n",
       "    </tr>\n",
       "  </thead>\n",
       "  <tbody>\n",
       "    <tr>\n",
       "      <th>0</th>\n",
       "      <td>4/1/2014 0:11:00</td>\n",
       "      <td>40.7690</td>\n",
       "      <td>-73.9549</td>\n",
       "      <td>B02512</td>\n",
       "    </tr>\n",
       "    <tr>\n",
       "      <th>1</th>\n",
       "      <td>4/1/2014 0:17:00</td>\n",
       "      <td>40.7267</td>\n",
       "      <td>-74.0345</td>\n",
       "      <td>B02512</td>\n",
       "    </tr>\n",
       "    <tr>\n",
       "      <th>2</th>\n",
       "      <td>4/1/2014 0:21:00</td>\n",
       "      <td>40.7316</td>\n",
       "      <td>-73.9873</td>\n",
       "      <td>B02512</td>\n",
       "    </tr>\n",
       "    <tr>\n",
       "      <th>3</th>\n",
       "      <td>4/1/2014 0:28:00</td>\n",
       "      <td>40.7588</td>\n",
       "      <td>-73.9776</td>\n",
       "      <td>B02512</td>\n",
       "    </tr>\n",
       "    <tr>\n",
       "      <th>4</th>\n",
       "      <td>4/1/2014 0:33:00</td>\n",
       "      <td>40.7594</td>\n",
       "      <td>-73.9722</td>\n",
       "      <td>B02512</td>\n",
       "    </tr>\n",
       "    <tr>\n",
       "      <th>...</th>\n",
       "      <td>...</td>\n",
       "      <td>...</td>\n",
       "      <td>...</td>\n",
       "      <td>...</td>\n",
       "    </tr>\n",
       "    <tr>\n",
       "      <th>1028131</th>\n",
       "      <td>9/30/2014 22:57:00</td>\n",
       "      <td>40.7668</td>\n",
       "      <td>-73.9845</td>\n",
       "      <td>B02764</td>\n",
       "    </tr>\n",
       "    <tr>\n",
       "      <th>1028132</th>\n",
       "      <td>9/30/2014 22:57:00</td>\n",
       "      <td>40.6911</td>\n",
       "      <td>-74.1773</td>\n",
       "      <td>B02764</td>\n",
       "    </tr>\n",
       "    <tr>\n",
       "      <th>1028133</th>\n",
       "      <td>9/30/2014 22:58:00</td>\n",
       "      <td>40.8519</td>\n",
       "      <td>-73.9319</td>\n",
       "      <td>B02764</td>\n",
       "    </tr>\n",
       "    <tr>\n",
       "      <th>1028134</th>\n",
       "      <td>9/30/2014 22:58:00</td>\n",
       "      <td>40.7081</td>\n",
       "      <td>-74.0066</td>\n",
       "      <td>B02764</td>\n",
       "    </tr>\n",
       "    <tr>\n",
       "      <th>1028135</th>\n",
       "      <td>9/30/2014 22:58:00</td>\n",
       "      <td>40.7140</td>\n",
       "      <td>-73.9496</td>\n",
       "      <td>B02764</td>\n",
       "    </tr>\n",
       "  </tbody>\n",
       "</table>\n",
       "<p>4451746 rows × 4 columns</p>\n",
       "</div>"
      ],
      "text/plain": [
       "                  Date/Time      Lat      Lon    Base\n",
       "0          4/1/2014 0:11:00  40.7690 -73.9549  B02512\n",
       "1          4/1/2014 0:17:00  40.7267 -74.0345  B02512\n",
       "2          4/1/2014 0:21:00  40.7316 -73.9873  B02512\n",
       "3          4/1/2014 0:28:00  40.7588 -73.9776  B02512\n",
       "4          4/1/2014 0:33:00  40.7594 -73.9722  B02512\n",
       "...                     ...      ...      ...     ...\n",
       "1028131  9/30/2014 22:57:00  40.7668 -73.9845  B02764\n",
       "1028132  9/30/2014 22:57:00  40.6911 -74.1773  B02764\n",
       "1028133  9/30/2014 22:58:00  40.8519 -73.9319  B02764\n",
       "1028134  9/30/2014 22:58:00  40.7081 -74.0066  B02764\n",
       "1028135  9/30/2014 22:58:00  40.7140 -73.9496  B02764\n",
       "\n",
       "[4451746 rows x 4 columns]"
      ]
     },
     "execution_count": 111,
     "metadata": {},
     "output_type": "execute_result"
    }
   ],
   "source": [
    "df_2014.drop_duplicates()"
   ]
  },
  {
   "cell_type": "markdown",
   "id": "03d66148",
   "metadata": {},
   "source": [
    "Feature Engineering"
   ]
  },
  {
   "cell_type": "code",
   "execution_count": 112,
   "id": "affa9840",
   "metadata": {},
   "outputs": [],
   "source": [
    "# Converting the 'Date/Time' column to datetime format\n",
    "df_2014['Date/Time'] = pd.to_datetime(df_2014['Date/Time'], format = '%m/%d/%Y %H:%M:%S')"
   ]
  },
  {
   "cell_type": "markdown",
   "id": "cdf7b289",
   "metadata": {},
   "source": [
    "As per the data, we can split ['Date/Time'] column into : Hour, WeekDays<br>\n",
    "(Not considering month (as limited months))"
   ]
  },
  {
   "cell_type": "code",
   "execution_count": 113,
   "id": "5e2e0126",
   "metadata": {},
   "outputs": [],
   "source": [
    "df_2014['WeekDay'] = df_2014['Date/Time'].dt.weekday\n",
    "df_2014['Hour'] = df_2014['Date/Time'].dt.hour"
   ]
  },
  {
   "cell_type": "code",
   "execution_count": 114,
   "id": "8dcc4752",
   "metadata": {},
   "outputs": [],
   "source": [
    "# Rounding the latitude and longitude to 2 decimal places, as can't predict exact precised location\n",
    "df_2014['Lat'] = df_2014['Lat'].round(2)\n",
    "df_2014['Lon'] = df_2014['Lon'].round(2)"
   ]
  },
  {
   "cell_type": "code",
   "execution_count": 115,
   "id": "1e079ef0",
   "metadata": {},
   "outputs": [],
   "source": [
    "df_2014.drop(columns = ['Date/Time'], inplace = True)"
   ]
  },
  {
   "cell_type": "code",
   "execution_count": 116,
   "id": "e69c6add",
   "metadata": {},
   "outputs": [
    {
     "data": {
      "text/html": [
       "<div>\n",
       "<style scoped>\n",
       "    .dataframe tbody tr th:only-of-type {\n",
       "        vertical-align: middle;\n",
       "    }\n",
       "\n",
       "    .dataframe tbody tr th {\n",
       "        vertical-align: top;\n",
       "    }\n",
       "\n",
       "    .dataframe thead th {\n",
       "        text-align: right;\n",
       "    }\n",
       "</style>\n",
       "<table border=\"1\" class=\"dataframe\">\n",
       "  <thead>\n",
       "    <tr style=\"text-align: right;\">\n",
       "      <th></th>\n",
       "      <th>Lat</th>\n",
       "      <th>Lon</th>\n",
       "      <th>Base</th>\n",
       "      <th>WeekDay</th>\n",
       "      <th>Hour</th>\n",
       "    </tr>\n",
       "  </thead>\n",
       "  <tbody>\n",
       "    <tr>\n",
       "      <th>0</th>\n",
       "      <td>40.77</td>\n",
       "      <td>-73.95</td>\n",
       "      <td>B02512</td>\n",
       "      <td>1</td>\n",
       "      <td>0</td>\n",
       "    </tr>\n",
       "    <tr>\n",
       "      <th>1</th>\n",
       "      <td>40.73</td>\n",
       "      <td>-74.03</td>\n",
       "      <td>B02512</td>\n",
       "      <td>1</td>\n",
       "      <td>0</td>\n",
       "    </tr>\n",
       "    <tr>\n",
       "      <th>2</th>\n",
       "      <td>40.73</td>\n",
       "      <td>-73.99</td>\n",
       "      <td>B02512</td>\n",
       "      <td>1</td>\n",
       "      <td>0</td>\n",
       "    </tr>\n",
       "    <tr>\n",
       "      <th>3</th>\n",
       "      <td>40.76</td>\n",
       "      <td>-73.98</td>\n",
       "      <td>B02512</td>\n",
       "      <td>1</td>\n",
       "      <td>0</td>\n",
       "    </tr>\n",
       "    <tr>\n",
       "      <th>4</th>\n",
       "      <td>40.76</td>\n",
       "      <td>-73.97</td>\n",
       "      <td>B02512</td>\n",
       "      <td>1</td>\n",
       "      <td>0</td>\n",
       "    </tr>\n",
       "  </tbody>\n",
       "</table>\n",
       "</div>"
      ],
      "text/plain": [
       "     Lat    Lon    Base  WeekDay  Hour\n",
       "0  40.77 -73.95  B02512        1     0\n",
       "1  40.73 -74.03  B02512        1     0\n",
       "2  40.73 -73.99  B02512        1     0\n",
       "3  40.76 -73.98  B02512        1     0\n",
       "4  40.76 -73.97  B02512        1     0"
      ]
     },
     "execution_count": 116,
     "metadata": {},
     "output_type": "execute_result"
    }
   ],
   "source": [
    "df_2014.head(5)"
   ]
  },
  {
   "cell_type": "markdown",
   "id": "0368ce2e",
   "metadata": {},
   "source": [
    "EDA :<br>\n",
    "In EDA, let's progress with exploration by visualizing & analyzing the following common relations in graphs : <br>\n",
    "* Trip count by Day of the week<br>\n",
    "* Trip count by Hourly basis<br>\n",
    "* Trip count by Weekday & Hour<br>\n",
    "* Trip count by Location(Lat & Lon)<br>\n"
   ]
  },
  {
   "cell_type": "markdown",
   "id": "80c205be",
   "metadata": {},
   "source": [
    "1. Trip count by Day of the week"
   ]
  },
  {
   "cell_type": "code",
   "execution_count": 117,
   "id": "e5bfe984",
   "metadata": {},
   "outputs": [
    {
     "data": {
      "image/png": "[encoded data removed]",
      "text/plain": [
       "<Figure size 640x480 with 1 Axes>"
      ]
     },
     "metadata": {},
     "output_type": "display_data"
    }
   ],
   "source": [
    "# Bar plot :\n",
    "plt.title('Uber Trips by Day of the Week')\n",
    "plt.xlabel('Day of the week')\n",
    "plt.ylabel('Number of Trips') \n",
    "x = df_2014['WeekDay'].value_counts().sort_index()\n",
    "plt.bar(x.index, x.values, color = 'crimson')\n",
    "plt.xticks(ticks = x.index, labels= ['Mon', 'Tue', 'Wed', 'Thu', 'Fri', 'Sat', 'Sun'])\n",
    "plt.show()"
   ]
  },
  {
   "cell_type": "markdown",
   "id": "64748489",
   "metadata": {},
   "source": [
    "Conclusion : \n",
    "* Trip demand surges form Monday & increases steadily & peaks at Thursdays & Fridays achieving its lowest on Sundays, here it is considerable that people are more active by the end of the weekdays which might be because of business or social reasons.\n",
    "* Trips are minimum on Sundays & it is logically considerable as people may like to take a rest on that day.\n",
    "* Hence, must allocate more drivers towards end of the week for optimized operational efficiency."
   ]
  },
  {
   "cell_type": "markdown",
   "id": "6c007509",
   "metadata": {},
   "source": [
    "2. Trip count by Hour "
   ]
  },
  {
   "cell_type": "code",
   "execution_count": 118,
   "id": "4096ac36",
   "metadata": {},
   "outputs": [
    {
     "data": {
      "image/png": "[encoded data removed]",
      "text/plain": [
       "<Figure size 1000x600 with 1 Axes>"
      ]
     },
     "metadata": {},
     "output_type": "display_data"
    }
   ],
   "source": [
    "plt.figure(figsize=(10,6))\n",
    "plt.title('Number of Trips per Hour')\n",
    "plt.xlabel('Hours')\n",
    "plt.ylabel('Trip counts')\n",
    "y = df_2014['Hour'].value_counts().sort_index()\n",
    "plt.bar(y.index, y.values)\n",
    "plt.xticks(ticks=range(24))\n",
    "plt.show()"
   ]
  },
  {
   "cell_type": "markdown",
   "id": "18e0cec1",
   "metadata": {},
   "source": [
    "Conclusions : \n",
    "* During the Early Hours from midnight till 5AM, we can see the least trip demand.\n",
    "* We can see Peak Demand Window from 4PM to 7PM. This alligns with the office end hours, which states Majority of the Clients are office workers."
   ]
  },
  {
   "cell_type": "markdown",
   "id": "569d575e",
   "metadata": {},
   "source": [
    "3. Trips by WeekDay & Hour"
   ]
  },
  {
   "cell_type": "code",
   "execution_count": 119,
   "id": "0341310a",
   "metadata": {},
   "outputs": [
    {
     "data": {
      "image/png": "[encoded data removed]",
      "text/plain": [
       "<Figure size 1000x500 with 2 Axes>"
      ]
     },
     "metadata": {},
     "output_type": "display_data"
    }
   ],
   "source": [
    "plt.figure(figsize=(10, 5))\n",
    "plt.title('Trips By WeekDay & Hour')\n",
    "sns.heatmap(df_2014.groupby(['WeekDay', 'Hour']).size().unstack(), cmap='YlGnBu', linewidth=0.5)\n",
    "plt.xlabel('Hour of Day')\n",
    "plt.ylabel('Day of Week')\n",
    "plt.yticks(ticks=range(7), labels=['Mon', 'Tue', 'Wed', 'Thu', 'Fri', 'Sat', 'Sun'], rotation=0)\n",
    "plt.show()"
   ]
  },
  {
   "cell_type": "markdown",
   "id": "50ca6d87",
   "metadata": {},
   "source": [
    "Conclusions :\n",
    "* As predicted in trip_demand vs hour graph & weekday, here we cay clearly see trip_demand is higher from 4PM to 7PM & from Mon to Fri. So, this conifrms that our clients are office workers.\n",
    "* Sunday seems less busy."
   ]
  },
  {
   "cell_type": "markdown",
   "id": "5d43875a",
   "metadata": {},
   "source": []
  },
  {
   "cell_type": "code",
   "execution_count": null,
   "id": "fc85b07c",
   "metadata": {},
   "outputs": [],
   "source": []
  },
  {
   "cell_type": "code",
   "execution_count": null,
   "id": "d6c53f8e",
   "metadata": {},
   "outputs": [],
   "source": []
  },
  {
   "cell_type": "code",
   "execution_count": null,
   "id": "73033f06",
   "metadata": {},
   "outputs": [],
   "source": []
  },
  {
   "cell_type": "code",
   "execution_count": null,
   "id": "5312b359",
   "metadata": {},
   "outputs": [],
   "source": []
  },
  {
   "cell_type": "code",
   "execution_count": null,
   "id": "f4cfa45b",
   "metadata": {},
   "outputs": [],
   "source": []
  },
  {
   "cell_type": "markdown",
   "id": "7879297e",
   "metadata": {},
   "source": [
    "## Storytelling Analysis: Uber Ride Demand by Weekday and Hour\n",
    "\n",
    "Imagine the city as a living, breathing entity—its pulse quickens and slows as people move about their daily routines. This heatmap is a window into that rhythm, revealing how Uber rides ebb and flow across the week and throughout each day.\n",
    "\n",
    "As the week begins, the city wakes up slowly. Mondays and Tuesdays show a gentle start, with ride demand gradually building as people return to work and settle into their routines. The mornings see a modest uptick, likely from commuters heading to offices, but the real action begins as the day progresses.\n",
    "\n",
    "By midweek—Wednesday, Thursday, and especially Friday—the city is buzzing. The heatmap glows brightest in the late afternoon and early evening, between 4 PM and 7 PM. This is when offices empty, social plans ignite, and the demand for rides surges. These peaks tell us that people are not just working hard but also making the most of their evenings, whether it's meeting friends, running errands, or heading out for dinner.\n",
    "\n",
    "Saturdays paint a different picture. The demand is more evenly spread, with steady activity from late morning through the evening. The city is alive with leisure—shopping, brunches, and outings. There’s no sharp rush hour, just a consistent hum of movement as people enjoy their weekend.\n",
    "\n",
    "Sundays, however, are unique. The early hours—just after midnight—see a final burst of activity, likely from late Saturday night revelers heading home. But as the day unfolds, the city slows down. Demand drops, reflecting a collective pause as people rest, recharge, and prepare for the week ahead.\n",
    "\n",
    "Across all days, the quietest hours are in the deep of night, from 2 AM to 5 AM, when the city sleeps and the streets are calm.\n",
    "\n",
    "For Uber, these patterns are more than just numbers—they are a guide to the city’s heartbeat. By understanding when and where demand peaks, Uber can ensure drivers are ready to meet riders at just the right moments, making the city’s rhythm smoother for everyone."
   ]
  }
 ],
 "metadata": {
  "kernelspec": {
   "display_name": ".venv",
   "language": "python",
   "name": "python3"
  },
  "language_info": {
   "codemirror_mode": {
    "name": "ipython",
    "version": 3
   },
   "file_extension": ".py",
   "mimetype": "text/x-python",
   "name": "python",
   "nbconvert_exporter": "python",
   "pygments_lexer": "ipython3",
   "version": "3.12.10"
  }
 },
 "nbformat": 4,
 "nbformat_minor": 5
}
