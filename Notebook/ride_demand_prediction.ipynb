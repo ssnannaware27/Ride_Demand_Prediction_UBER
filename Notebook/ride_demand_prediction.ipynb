{
 "cells": [
  {
   "cell_type": "markdown",
   "id": "bb388043",
   "metadata": {},
   "source": [
    "1. Ride Demand Prediction (Regression or Time-Series Forecasting)"
   ]
  },
  {
   "cell_type": "markdown",
   "id": "b51c5aad",
   "metadata": {},
   "source": [
    "Loading Modules : "
   ]
  },
  {
   "cell_type": "code",
   "execution_count": 17,
   "id": "f3ad34a9",
   "metadata": {},
   "outputs": [],
   "source": [
    "import pandas as pd\n",
    "import glob             # For getting a list of files in a directory\n",
    "import numpy as np\n",
    "\n",
    "# For Visualization\n",
    "import matplotlib.pyplot as plt"
   ]
  },
  {
   "cell_type": "markdown",
   "id": "058980af",
   "metadata": {},
   "source": [
    "Loading Dataset : "
   ]
  },
  {
   "cell_type": "code",
   "execution_count": 2,
   "id": "cec3dbc5",
   "metadata": {},
   "outputs": [],
   "source": [
    "# CSV - 2014\n",
    "files_2014 = glob.glob(\"../Dataset/Topic_1n2/*14.csv\")\n",
    "# to concatenate all the files\n",
    "df_2014 = pd.concat([pd.read_csv(f, encoding=\"latin1\") for f in files_2014]) # used latin1 encoding as utf-8 didn't work which is by default\n",
    "\n",
    "# CSV - 2015\n",
    "files_2015 = pd.read_csv(\"../Dataset/Topic_1n2/uber-raw-data-janjune-15.csv\", encoding=\"latin1\")\n",
    "df_2015 = pd.DataFrame(files_2015)"
   ]
  },
  {
   "cell_type": "code",
   "execution_count": 3,
   "id": "9cfd3ae9",
   "metadata": {},
   "outputs": [
    {
     "data": {
      "text/html": [
       "<div>\n",
       "<style scoped>\n",
       "    .dataframe tbody tr th:only-of-type {\n",
       "        vertical-align: middle;\n",
       "    }\n",
       "\n",
       "    .dataframe tbody tr th {\n",
       "        vertical-align: top;\n",
       "    }\n",
       "\n",
       "    .dataframe thead th {\n",
       "        text-align: right;\n",
       "    }\n",
       "</style>\n",
       "<table border=\"1\" class=\"dataframe\">\n",
       "  <thead>\n",
       "    <tr style=\"text-align: right;\">\n",
       "      <th></th>\n",
       "      <th>Date/Time</th>\n",
       "      <th>Lat</th>\n",
       "      <th>Lon</th>\n",
       "      <th>Base</th>\n",
       "    </tr>\n",
       "  </thead>\n",
       "  <tbody>\n",
       "    <tr>\n",
       "      <th>0</th>\n",
       "      <td>4/1/2014 0:11:00</td>\n",
       "      <td>40.7690</td>\n",
       "      <td>-73.9549</td>\n",
       "      <td>B02512</td>\n",
       "    </tr>\n",
       "    <tr>\n",
       "      <th>1</th>\n",
       "      <td>4/1/2014 0:17:00</td>\n",
       "      <td>40.7267</td>\n",
       "      <td>-74.0345</td>\n",
       "      <td>B02512</td>\n",
       "    </tr>\n",
       "    <tr>\n",
       "      <th>2</th>\n",
       "      <td>4/1/2014 0:21:00</td>\n",
       "      <td>40.7316</td>\n",
       "      <td>-73.9873</td>\n",
       "      <td>B02512</td>\n",
       "    </tr>\n",
       "    <tr>\n",
       "      <th>3</th>\n",
       "      <td>4/1/2014 0:28:00</td>\n",
       "      <td>40.7588</td>\n",
       "      <td>-73.9776</td>\n",
       "      <td>B02512</td>\n",
       "    </tr>\n",
       "    <tr>\n",
       "      <th>4</th>\n",
       "      <td>4/1/2014 0:33:00</td>\n",
       "      <td>40.7594</td>\n",
       "      <td>-73.9722</td>\n",
       "      <td>B02512</td>\n",
       "    </tr>\n",
       "  </tbody>\n",
       "</table>\n",
       "</div>"
      ],
      "text/plain": [
       "          Date/Time      Lat      Lon    Base\n",
       "0  4/1/2014 0:11:00  40.7690 -73.9549  B02512\n",
       "1  4/1/2014 0:17:00  40.7267 -74.0345  B02512\n",
       "2  4/1/2014 0:21:00  40.7316 -73.9873  B02512\n",
       "3  4/1/2014 0:28:00  40.7588 -73.9776  B02512\n",
       "4  4/1/2014 0:33:00  40.7594 -73.9722  B02512"
      ]
     },
     "execution_count": 3,
     "metadata": {},
     "output_type": "execute_result"
    }
   ],
   "source": [
    "df_2014.head(5)"
   ]
  },
  {
   "cell_type": "code",
   "execution_count": 4,
   "id": "ed4dd204",
   "metadata": {},
   "outputs": [
    {
     "data": {
      "text/html": [
       "<div>\n",
       "<style scoped>\n",
       "    .dataframe tbody tr th:only-of-type {\n",
       "        vertical-align: middle;\n",
       "    }\n",
       "\n",
       "    .dataframe tbody tr th {\n",
       "        vertical-align: top;\n",
       "    }\n",
       "\n",
       "    .dataframe thead th {\n",
       "        text-align: right;\n",
       "    }\n",
       "</style>\n",
       "<table border=\"1\" class=\"dataframe\">\n",
       "  <thead>\n",
       "    <tr style=\"text-align: right;\">\n",
       "      <th></th>\n",
       "      <th>Dispatching_base_num</th>\n",
       "      <th>Pickup_date</th>\n",
       "      <th>Affiliated_base_num</th>\n",
       "      <th>locationID</th>\n",
       "    </tr>\n",
       "  </thead>\n",
       "  <tbody>\n",
       "    <tr>\n",
       "      <th>0</th>\n",
       "      <td>B02617</td>\n",
       "      <td>2015-05-17 09:47:00</td>\n",
       "      <td>B02617</td>\n",
       "      <td>141</td>\n",
       "    </tr>\n",
       "    <tr>\n",
       "      <th>1</th>\n",
       "      <td>B02617</td>\n",
       "      <td>2015-05-17 09:47:00</td>\n",
       "      <td>B02617</td>\n",
       "      <td>65</td>\n",
       "    </tr>\n",
       "    <tr>\n",
       "      <th>2</th>\n",
       "      <td>B02617</td>\n",
       "      <td>2015-05-17 09:47:00</td>\n",
       "      <td>B02617</td>\n",
       "      <td>100</td>\n",
       "    </tr>\n",
       "    <tr>\n",
       "      <th>3</th>\n",
       "      <td>B02617</td>\n",
       "      <td>2015-05-17 09:47:00</td>\n",
       "      <td>B02774</td>\n",
       "      <td>80</td>\n",
       "    </tr>\n",
       "    <tr>\n",
       "      <th>4</th>\n",
       "      <td>B02617</td>\n",
       "      <td>2015-05-17 09:47:00</td>\n",
       "      <td>B02617</td>\n",
       "      <td>90</td>\n",
       "    </tr>\n",
       "  </tbody>\n",
       "</table>\n",
       "</div>"
      ],
      "text/plain": [
       "  Dispatching_base_num          Pickup_date Affiliated_base_num  locationID\n",
       "0               B02617  2015-05-17 09:47:00              B02617         141\n",
       "1               B02617  2015-05-17 09:47:00              B02617          65\n",
       "2               B02617  2015-05-17 09:47:00              B02617         100\n",
       "3               B02617  2015-05-17 09:47:00              B02774          80\n",
       "4               B02617  2015-05-17 09:47:00              B02617          90"
      ]
     },
     "execution_count": 4,
     "metadata": {},
     "output_type": "execute_result"
    }
   ],
   "source": [
    "df_2015.head(5)"
   ]
  },
  {
   "cell_type": "code",
   "execution_count": 5,
   "id": "a276bdd5",
   "metadata": {},
   "outputs": [
    {
     "name": "stdout",
     "output_type": "stream",
     "text": [
      "<class 'pandas.core.frame.DataFrame'>\n",
      "Index: 4534327 entries, 0 to 1028135\n",
      "Data columns (total 4 columns):\n",
      " #   Column     Dtype  \n",
      "---  ------     -----  \n",
      " 0   Date/Time  object \n",
      " 1   Lat        float64\n",
      " 2   Lon        float64\n",
      " 3   Base       object \n",
      "dtypes: float64(2), object(2)\n",
      "memory usage: 173.0+ MB\n"
     ]
    }
   ],
   "source": [
    "# As 2014 data gives exact lat/lon coordinates, Will predict using 2014 data\n",
    "df_2014.info()"
   ]
  },
  {
   "cell_type": "markdown",
   "id": "58f24e75",
   "metadata": {},
   "source": [
    "Data pre-processing"
   ]
  },
  {
   "cell_type": "code",
   "execution_count": 6,
   "id": "b3498e70",
   "metadata": {},
   "outputs": [
    {
     "data": {
      "text/plain": [
       "Date/Time    0\n",
       "Lat          0\n",
       "Lon          0\n",
       "Base         0\n",
       "dtype: int64"
      ]
     },
     "execution_count": 6,
     "metadata": {},
     "output_type": "execute_result"
    }
   ],
   "source": [
    "df_2014.isnull().sum()"
   ]
  },
  {
   "cell_type": "code",
   "execution_count": 7,
   "id": "666560cd",
   "metadata": {},
   "outputs": [
    {
     "name": "stdout",
     "output_type": "stream",
     "text": [
      "82581\n"
     ]
    }
   ],
   "source": [
    "print(df_2014.duplicated().sum())"
   ]
  },
  {
   "cell_type": "code",
   "execution_count": 8,
   "id": "dd0bdbc1",
   "metadata": {},
   "outputs": [
    {
     "data": {
      "text/html": [
       "<div>\n",
       "<style scoped>\n",
       "    .dataframe tbody tr th:only-of-type {\n",
       "        vertical-align: middle;\n",
       "    }\n",
       "\n",
       "    .dataframe tbody tr th {\n",
       "        vertical-align: top;\n",
       "    }\n",
       "\n",
       "    .dataframe thead th {\n",
       "        text-align: right;\n",
       "    }\n",
       "</style>\n",
       "<table border=\"1\" class=\"dataframe\">\n",
       "  <thead>\n",
       "    <tr style=\"text-align: right;\">\n",
       "      <th></th>\n",
       "      <th>Date/Time</th>\n",
       "      <th>Lat</th>\n",
       "      <th>Lon</th>\n",
       "      <th>Base</th>\n",
       "    </tr>\n",
       "  </thead>\n",
       "  <tbody>\n",
       "    <tr>\n",
       "      <th>0</th>\n",
       "      <td>4/1/2014 0:11:00</td>\n",
       "      <td>40.7690</td>\n",
       "      <td>-73.9549</td>\n",
       "      <td>B02512</td>\n",
       "    </tr>\n",
       "    <tr>\n",
       "      <th>1</th>\n",
       "      <td>4/1/2014 0:17:00</td>\n",
       "      <td>40.7267</td>\n",
       "      <td>-74.0345</td>\n",
       "      <td>B02512</td>\n",
       "    </tr>\n",
       "    <tr>\n",
       "      <th>2</th>\n",
       "      <td>4/1/2014 0:21:00</td>\n",
       "      <td>40.7316</td>\n",
       "      <td>-73.9873</td>\n",
       "      <td>B02512</td>\n",
       "    </tr>\n",
       "    <tr>\n",
       "      <th>3</th>\n",
       "      <td>4/1/2014 0:28:00</td>\n",
       "      <td>40.7588</td>\n",
       "      <td>-73.9776</td>\n",
       "      <td>B02512</td>\n",
       "    </tr>\n",
       "    <tr>\n",
       "      <th>4</th>\n",
       "      <td>4/1/2014 0:33:00</td>\n",
       "      <td>40.7594</td>\n",
       "      <td>-73.9722</td>\n",
       "      <td>B02512</td>\n",
       "    </tr>\n",
       "    <tr>\n",
       "      <th>...</th>\n",
       "      <td>...</td>\n",
       "      <td>...</td>\n",
       "      <td>...</td>\n",
       "      <td>...</td>\n",
       "    </tr>\n",
       "    <tr>\n",
       "      <th>1028131</th>\n",
       "      <td>9/30/2014 22:57:00</td>\n",
       "      <td>40.7668</td>\n",
       "      <td>-73.9845</td>\n",
       "      <td>B02764</td>\n",
       "    </tr>\n",
       "    <tr>\n",
       "      <th>1028132</th>\n",
       "      <td>9/30/2014 22:57:00</td>\n",
       "      <td>40.6911</td>\n",
       "      <td>-74.1773</td>\n",
       "      <td>B02764</td>\n",
       "    </tr>\n",
       "    <tr>\n",
       "      <th>1028133</th>\n",
       "      <td>9/30/2014 22:58:00</td>\n",
       "      <td>40.8519</td>\n",
       "      <td>-73.9319</td>\n",
       "      <td>B02764</td>\n",
       "    </tr>\n",
       "    <tr>\n",
       "      <th>1028134</th>\n",
       "      <td>9/30/2014 22:58:00</td>\n",
       "      <td>40.7081</td>\n",
       "      <td>-74.0066</td>\n",
       "      <td>B02764</td>\n",
       "    </tr>\n",
       "    <tr>\n",
       "      <th>1028135</th>\n",
       "      <td>9/30/2014 22:58:00</td>\n",
       "      <td>40.7140</td>\n",
       "      <td>-73.9496</td>\n",
       "      <td>B02764</td>\n",
       "    </tr>\n",
       "  </tbody>\n",
       "</table>\n",
       "<p>4451746 rows × 4 columns</p>\n",
       "</div>"
      ],
      "text/plain": [
       "                  Date/Time      Lat      Lon    Base\n",
       "0          4/1/2014 0:11:00  40.7690 -73.9549  B02512\n",
       "1          4/1/2014 0:17:00  40.7267 -74.0345  B02512\n",
       "2          4/1/2014 0:21:00  40.7316 -73.9873  B02512\n",
       "3          4/1/2014 0:28:00  40.7588 -73.9776  B02512\n",
       "4          4/1/2014 0:33:00  40.7594 -73.9722  B02512\n",
       "...                     ...      ...      ...     ...\n",
       "1028131  9/30/2014 22:57:00  40.7668 -73.9845  B02764\n",
       "1028132  9/30/2014 22:57:00  40.6911 -74.1773  B02764\n",
       "1028133  9/30/2014 22:58:00  40.8519 -73.9319  B02764\n",
       "1028134  9/30/2014 22:58:00  40.7081 -74.0066  B02764\n",
       "1028135  9/30/2014 22:58:00  40.7140 -73.9496  B02764\n",
       "\n",
       "[4451746 rows x 4 columns]"
      ]
     },
     "execution_count": 8,
     "metadata": {},
     "output_type": "execute_result"
    }
   ],
   "source": [
    "df_2014.drop_duplicates()"
   ]
  },
  {
   "cell_type": "markdown",
   "id": "03d66148",
   "metadata": {},
   "source": [
    "Feature Engineering"
   ]
  },
  {
   "cell_type": "code",
   "execution_count": 9,
   "id": "affa9840",
   "metadata": {},
   "outputs": [],
   "source": [
    "# Converting the 'Date/Time' column to datetime format\n",
    "df_2014['Date/Time'] = pd.to_datetime(df_2014['Date/Time'], format = '%m/%d/%Y %H:%M:%S')\n",
    "# df_2015['Pickup_date'] = pd.to_datetime(df_2015['Pickup_date'], format = '%Y-%m-%d %H:%M:%S')"
   ]
  },
  {
   "cell_type": "code",
   "execution_count": 10,
   "id": "5e2e0126",
   "metadata": {},
   "outputs": [],
   "source": [
    "# As per the data, we can split time into 3 parts: Hour, Minute\n",
    "# Convert Date into : Month, Day\n",
    "\n",
    "df_2014['Day'] = df_2014['Date/Time'].dt.weekday\n",
    "df_2014['Month'] = df_2014['Date/Time'].dt.month\n",
    "df_2014['Hour'] = df_2014['Date/Time'].dt.hour\n",
    "df_2014['Minute'] = df_2014['Date/Time'].dt.minute\n",
    "\n",
    "# df_2015['Day'] = df_2015['Pickup_date'].dt.weekday\n",
    "# df_2015['Month'] = df_2015['Pickup_date'].dt.month\n",
    "# df_2015['Hour'] = df_2015['Pickup_date'].dt.hour\n",
    "# df_2015['Minute'] = df_2015['Pickup_date'].dt.minute"
   ]
  },
  {
   "cell_type": "code",
   "execution_count": 11,
   "id": "8dcc4752",
   "metadata": {},
   "outputs": [],
   "source": [
    "# Rounding the latitude and longitude to 2 decimal places\n",
    "df_2014['Lat'] = df_2014['Lat'].round(2)\n",
    "df_2014['Lon'] = df_2014['Lon'].round(2)"
   ]
  },
  {
   "cell_type": "code",
   "execution_count": 12,
   "id": "1e079ef0",
   "metadata": {},
   "outputs": [],
   "source": [
    "df_2014.drop(columns = ['Date/Time'], inplace = True)"
   ]
  },
  {
   "cell_type": "code",
   "execution_count": 13,
   "id": "e69c6add",
   "metadata": {},
   "outputs": [
    {
     "data": {
      "text/html": [
       "<div>\n",
       "<style scoped>\n",
       "    .dataframe tbody tr th:only-of-type {\n",
       "        vertical-align: middle;\n",
       "    }\n",
       "\n",
       "    .dataframe tbody tr th {\n",
       "        vertical-align: top;\n",
       "    }\n",
       "\n",
       "    .dataframe thead th {\n",
       "        text-align: right;\n",
       "    }\n",
       "</style>\n",
       "<table border=\"1\" class=\"dataframe\">\n",
       "  <thead>\n",
       "    <tr style=\"text-align: right;\">\n",
       "      <th></th>\n",
       "      <th>Lat</th>\n",
       "      <th>Lon</th>\n",
       "      <th>Base</th>\n",
       "      <th>Day</th>\n",
       "      <th>Month</th>\n",
       "      <th>Hour</th>\n",
       "      <th>Minute</th>\n",
       "    </tr>\n",
       "  </thead>\n",
       "  <tbody>\n",
       "    <tr>\n",
       "      <th>0</th>\n",
       "      <td>40.77</td>\n",
       "      <td>-73.95</td>\n",
       "      <td>B02512</td>\n",
       "      <td>1</td>\n",
       "      <td>4</td>\n",
       "      <td>0</td>\n",
       "      <td>11</td>\n",
       "    </tr>\n",
       "    <tr>\n",
       "      <th>1</th>\n",
       "      <td>40.73</td>\n",
       "      <td>-74.03</td>\n",
       "      <td>B02512</td>\n",
       "      <td>1</td>\n",
       "      <td>4</td>\n",
       "      <td>0</td>\n",
       "      <td>17</td>\n",
       "    </tr>\n",
       "    <tr>\n",
       "      <th>2</th>\n",
       "      <td>40.73</td>\n",
       "      <td>-73.99</td>\n",
       "      <td>B02512</td>\n",
       "      <td>1</td>\n",
       "      <td>4</td>\n",
       "      <td>0</td>\n",
       "      <td>21</td>\n",
       "    </tr>\n",
       "    <tr>\n",
       "      <th>3</th>\n",
       "      <td>40.76</td>\n",
       "      <td>-73.98</td>\n",
       "      <td>B02512</td>\n",
       "      <td>1</td>\n",
       "      <td>4</td>\n",
       "      <td>0</td>\n",
       "      <td>28</td>\n",
       "    </tr>\n",
       "    <tr>\n",
       "      <th>4</th>\n",
       "      <td>40.76</td>\n",
       "      <td>-73.97</td>\n",
       "      <td>B02512</td>\n",
       "      <td>1</td>\n",
       "      <td>4</td>\n",
       "      <td>0</td>\n",
       "      <td>33</td>\n",
       "    </tr>\n",
       "  </tbody>\n",
       "</table>\n",
       "</div>"
      ],
      "text/plain": [
       "     Lat    Lon    Base  Day  Month  Hour  Minute\n",
       "0  40.77 -73.95  B02512    1      4     0      11\n",
       "1  40.73 -74.03  B02512    1      4     0      17\n",
       "2  40.73 -73.99  B02512    1      4     0      21\n",
       "3  40.76 -73.98  B02512    1      4     0      28\n",
       "4  40.76 -73.97  B02512    1      4     0      33"
      ]
     },
     "execution_count": 13,
     "metadata": {},
     "output_type": "execute_result"
    }
   ],
   "source": [
    "df_2014.head(5)"
   ]
  },
  {
   "cell_type": "markdown",
   "id": "0368ce2e",
   "metadata": {},
   "source": [
    "EDA"
   ]
  },
  {
   "cell_type": "markdown",
   "id": "80c205be",
   "metadata": {},
   "source": [
    "1. Day of the week vs No. of trips"
   ]
  },
  {
   "cell_type": "code",
   "execution_count": 24,
   "id": "e5bfe984",
   "metadata": {},
   "outputs": [
    {
     "data": {
      "image/png": "[encoded data removed]",
      "text/plain": [
       "<Figure size 640x480 with 1 Axes>"
      ]
     },
     "metadata": {},
     "output_type": "display_data"
    }
   ],
   "source": [
    "# Bar plot :\n",
    "plt.title('Uber Trips by Day of the Week')\n",
    "plt.xlabel('Day of the week')\n",
    "plt.ylabel('Number of Trips') \n",
    "x = df_2014['Day'].value_counts().sort_index()\n",
    "plt.bar(x.index, x.values)\n",
    "plt.xticks(ticks = x.index, labels= ['Mon', 'Tue', 'Wed', 'Thu', 'Fri', 'Sat', 'Sun'])\n",
    "plt.show()"
   ]
  },
  {
   "cell_type": "code",
   "execution_count": 31,
   "id": "5c6a0ae3",
   "metadata": {},
   "outputs": [
    {
     "data": {
      "text/plain": [
       "np.int64(755145)"
      ]
     },
     "execution_count": 31,
     "metadata": {},
     "output_type": "execute_result"
    }
   ],
   "source": [
    "x.max()"
   ]
  },
  {
   "cell_type": "markdown",
   "id": "4289e5c5",
   "metadata": {},
   "source": [
    "Conclusion : \n",
    "* Uber ride demand is highest on Thursdays and Fridays, with approximately 755,145 and 741,139 trips respectively. \n",
    "* In contrast, Sundays and Mondays see significantly lower demand, with around 490,180 and 541,472 trips. \n",
    "* This pattern suggests that Uber should allocate more drivers and resources towards the end of the week to meet higher demand, while reducing fleet capacity on Sundays and Mondays to optimize operational efficiency."
   ]
  },
  {
   "cell_type": "code",
   "execution_count": null,
   "id": "42869556",
   "metadata": {},
   "outputs": [],
   "source": []
  }
 ],
 "metadata": {
  "kernelspec": {
   "display_name": "venv",
   "language": "python",
   "name": "python3"
  },
  "language_info": {
   "codemirror_mode": {
    "name": "ipython",
    "version": 3
   },
   "file_extension": ".py",
   "mimetype": "text/x-python",
   "name": "python",
   "nbconvert_exporter": "python",
   "pygments_lexer": "ipython3",
   "version": "3.13.2"
  }
 },
 "nbformat": 4,
 "nbformat_minor": 5
}
